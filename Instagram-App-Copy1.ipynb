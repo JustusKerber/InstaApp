{
 "cells": [
  {
   "cell_type": "markdown",
   "metadata": {},
   "source": [
    "### Instagram automation \n",
    "This program is a test to automate Insagram with python. I'm planing to become more active on Istagram with posting new pictures etc. I'll try to automate as much I can to optimize the process. \n",
    "\n",
    "[Source: https://realpython.com/instagram-bot-python-instapy/]"
   ]
  },
  {
   "cell_type": "code",
   "execution_count": 1,
   "metadata": {},
   "outputs": [],
   "source": [
    "user_name = \"<>\"\n",
    "user_password = \"<>\""
   ]
  },
  {
   "cell_type": "code",
   "execution_count": 2,
   "metadata": {},
   "outputs": [],
   "source": [
    "import tkinter as tk\n",
    "from tkinter import ttk\n",
    "from tkinter import filedialog\n",
    "from PIL import Image, ImageTk #\n",
    "import os"
   ]
  },
  {
   "cell_type": "code",
   "execution_count": null,
   "metadata": {
    "scrolled": true
   },
   "outputs": [
    {
     "name": "stderr",
     "output_type": "stream",
     "text": [
      "2020-09-14 12:34:35,072 - INFO - Instabot version: 0.117.0 Started\n",
      "2020-09-14 12:34:35,075 - INFO - Recovery from C:\\Users\\JKErb\\PycharmProjects/config/jpointkpoint__uuid_and_cookie.json: COOKIE True - UUIDs True - TIMING, DEVICE and ...\n",
      "- user-agent=Instagram 117.0.0.28.123 Android (28/9.0; 420dpi; 1080x1920; OnePlus; ONEPLUS A3003; OnePlus3; qcom; en_US; 180322800)\n",
      "- phone_id=73825b3f-8b17-4fb4-a284-2d22211d73c1\n",
      "- uuid=bafbb973-9aca-445d-816e-af6efc78bc01\n",
      "- client_session_id=1fef99e6-d70e-45c0-a626-661808208472\n",
      "- device_id=android-05f8d53abcf413f2\n",
      "2020-09-14 12:34:35,077 - INFO - LOGIN FLOW! Just logged-in: False\n",
      "2020-09-14 12:34:37,293 - INFO - Logged-in successfully as 'jpointkpoint_'!\n"
     ]
    },
    {
     "name": "stdout",
     "output_type": "stream",
     "text": [
      "FOUND: w:1152 h:648 r:1.7777777777777777\n"
     ]
    },
    {
     "name": "stderr",
     "output_type": "stream",
     "text": [
      "2020-09-14 12:37:14,202 - INFO - Photo 'C:/Users/JKErb/PycharmProjects/Test.jpg' is uploaded.\n"
     ]
    },
    {
     "name": "stdout",
     "output_type": "stream",
     "text": [
      "Post-Report:\n",
      "File:C:/Users/JKErb/PycharmProjects/Test.jpg\n",
      "Comment:This is just a Test with my Instagram App  #test #justatest\n"
     ]
    }
   ],
   "source": [
    "from instabot import Bot \n",
    "instabot = Bot()\n",
    "\n",
    "instabot.login(username = user_name,  \n",
    "          password = user_password) \n",
    "\n",
    "\n",
    "def showimage():\n",
    "    global file\n",
    "    file = tk.filedialog.askopenfilename(initialdir = os.getcwd(),title=\"select image file\", filetype = ((\"JPG File\",\"*.jpg\"),(\"PNG file\",\"*.png\")))\n",
    "    image = Image.open(file)\n",
    "    \n",
    "    #Resize the image \n",
    "    resized = image.resize((480,480), Image.ANTIALIAS)\n",
    "    image = ImageTk.PhotoImage(resized)\n",
    "    label.configure(image = image)\n",
    "    label.image = image\n",
    "    \n",
    "\n",
    "def addimage():\n",
    "    instabot.upload_photo(file,caption = entry.get())\n",
    "    print(\"Post-Report:\")\n",
    "    print(\"File:\"+ str(file))\n",
    "    print(\"Comment:\"+str(entry.get()))\n",
    "    return True\n",
    "    \n",
    "root = tk.Tk()\n",
    "root.title(\"Instagram-Post-App\")\n",
    "root.iconbitmap(\"insta_24.ico\")\n",
    "root.geometry(\"500x700\")\n",
    "\n",
    "\n",
    "label = tk.Label(root)\n",
    "label.place(x = 10, y = 10, width=50, height=50)\n",
    "label.pack()\n",
    "\n",
    "frame = tk.Frame(root)\n",
    "frame.pack(side = tk.BOTTOM, padx = 15, pady = 15)\n",
    "\n",
    "\n",
    "entry = tk.Entry(root)\n",
    "entry.place(x = 10, y = 500, width=480, height=120)\n",
    "\n",
    "\n",
    "\n",
    "\n",
    "button_1 = tk.Button(frame, text = \"Browse Image\", command=showimage)\n",
    "button_1.pack(side = tk.LEFT,padx = 10)\n",
    "\n",
    "button_2 = tk.Button(frame, text = \"Add\", command=addimage)\n",
    "button_2.pack(side = tk.LEFT, padx = 10)\n",
    "\n",
    "button_3 = tk.Button(frame, text = \"Close\", command=root.destroy)\n",
    "button_3.pack(side = tk.LEFT, padx = 10)\n",
    "\n",
    "root.mainloop()\n",
    "\n"
   ]
  },
  {
   "cell_type": "code",
   "execution_count": null,
   "metadata": {},
   "outputs": [],
   "source": []
  },
  {
   "cell_type": "code",
   "execution_count": null,
   "metadata": {},
   "outputs": [],
   "source": []
  }
 ],
 "metadata": {
  "kernelspec": {
   "display_name": "Python 3",
   "language": "python",
   "name": "python3"
  },
  "language_info": {
   "codemirror_mode": {
    "name": "ipython",
    "version": 3
   },
   "file_extension": ".py",
   "mimetype": "text/x-python",
   "name": "python",
   "nbconvert_exporter": "python",
   "pygments_lexer": "ipython3",
   "version": "3.8.5"
  }
 },
 "nbformat": 4,
 "nbformat_minor": 4
}
